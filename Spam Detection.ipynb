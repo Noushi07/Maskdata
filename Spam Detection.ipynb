{
 "cells": [
  {
   "cell_type": "code",
   "execution_count": 1,
   "id": "5115230b",
   "metadata": {},
   "outputs": [],
   "source": [
    "import re\n",
    "import pandas as pd\n",
    "import numpy as np\n",
    "import matplotlib.pyplot as plt\n",
    "import seaborn as sns"
   ]
  },
  {
   "cell_type": "code",
   "execution_count": 2,
   "id": "633f02b7",
   "metadata": {
    "scrolled": true
   },
   "outputs": [
    {
     "data": {
      "text/html": [
       "<div>\n",
       "<style scoped>\n",
       "    .dataframe tbody tr th:only-of-type {\n",
       "        vertical-align: middle;\n",
       "    }\n",
       "\n",
       "    .dataframe tbody tr th {\n",
       "        vertical-align: top;\n",
       "    }\n",
       "\n",
       "    .dataframe thead th {\n",
       "        text-align: right;\n",
       "    }\n",
       "</style>\n",
       "<table border=\"1\" class=\"dataframe\">\n",
       "  <thead>\n",
       "    <tr style=\"text-align: right;\">\n",
       "      <th></th>\n",
       "      <th>S. No.</th>\n",
       "      <th>Message_body</th>\n",
       "      <th>Label</th>\n",
       "    </tr>\n",
       "  </thead>\n",
       "  <tbody>\n",
       "    <tr>\n",
       "      <th>0</th>\n",
       "      <td>1</td>\n",
       "      <td>Rofl. Its true to its name</td>\n",
       "      <td>Non-Spam</td>\n",
       "    </tr>\n",
       "    <tr>\n",
       "      <th>1</th>\n",
       "      <td>2</td>\n",
       "      <td>The guy did some bitching but I acted like i'd...</td>\n",
       "      <td>Non-Spam</td>\n",
       "    </tr>\n",
       "    <tr>\n",
       "      <th>2</th>\n",
       "      <td>3</td>\n",
       "      <td>Pity, * was in mood for that. So...any other s...</td>\n",
       "      <td>Non-Spam</td>\n",
       "    </tr>\n",
       "    <tr>\n",
       "      <th>3</th>\n",
       "      <td>4</td>\n",
       "      <td>Will ü b going to esplanade fr home?</td>\n",
       "      <td>Non-Spam</td>\n",
       "    </tr>\n",
       "    <tr>\n",
       "      <th>4</th>\n",
       "      <td>5</td>\n",
       "      <td>This is the 2nd time we have tried 2 contact u...</td>\n",
       "      <td>Spam</td>\n",
       "    </tr>\n",
       "  </tbody>\n",
       "</table>\n",
       "</div>"
      ],
      "text/plain": [
       "   S. No.                                       Message_body     Label\n",
       "0       1                         Rofl. Its true to its name  Non-Spam\n",
       "1       2  The guy did some bitching but I acted like i'd...  Non-Spam\n",
       "2       3  Pity, * was in mood for that. So...any other s...  Non-Spam\n",
       "3       4               Will ü b going to esplanade fr home?  Non-Spam\n",
       "4       5  This is the 2nd time we have tried 2 contact u...      Spam"
      ]
     },
     "execution_count": 2,
     "metadata": {},
     "output_type": "execute_result"
    }
   ],
   "source": [
    "data = pd.read_csv('SMS_train.csv',encoding='ISO-8859-1')\n",
    "data.head()"
   ]
  },
  {
   "cell_type": "code",
   "execution_count": 3,
   "id": "0f46c23e",
   "metadata": {},
   "outputs": [
    {
     "data": {
      "text/plain": [
       "(957, 3)"
      ]
     },
     "execution_count": 3,
     "metadata": {},
     "output_type": "execute_result"
    }
   ],
   "source": [
    "data.shape"
   ]
  },
  {
   "cell_type": "code",
   "execution_count": 4,
   "id": "e076d3cf",
   "metadata": {},
   "outputs": [
    {
     "name": "stdout",
     "output_type": "stream",
     "text": [
      "<class 'pandas.core.frame.DataFrame'>\n",
      "RangeIndex: 957 entries, 0 to 956\n",
      "Data columns (total 3 columns):\n",
      " #   Column        Non-Null Count  Dtype \n",
      "---  ------        --------------  ----- \n",
      " 0   S. No.        957 non-null    int64 \n",
      " 1   Message_body  957 non-null    object\n",
      " 2   Label         957 non-null    object\n",
      "dtypes: int64(1), object(2)\n",
      "memory usage: 22.6+ KB\n"
     ]
    }
   ],
   "source": [
    "data.info()"
   ]
  },
  {
   "cell_type": "code",
   "execution_count": 5,
   "id": "49affbd4",
   "metadata": {},
   "outputs": [
    {
     "name": "stdout",
     "output_type": "stream",
     "text": [
      "S. No.          0\n",
      "Message_body    0\n",
      "Label           0\n",
      "dtype: int64\n"
     ]
    }
   ],
   "source": [
    "print(data.isna().sum())"
   ]
  },
  {
   "cell_type": "code",
   "execution_count": 6,
   "id": "9f290f11",
   "metadata": {},
   "outputs": [
    {
     "data": {
      "text/plain": [
       "Non-Spam    835\n",
       "Spam        122\n",
       "Name: Label, dtype: int64"
      ]
     },
     "execution_count": 6,
     "metadata": {},
     "output_type": "execute_result"
    }
   ],
   "source": [
    "data['Label'].value_counts()"
   ]
  },
  {
   "cell_type": "code",
   "execution_count": 7,
   "id": "a2488555",
   "metadata": {},
   "outputs": [
    {
     "data": {
      "text/plain": [
       "<AxesSubplot:xlabel='Label', ylabel='count'>"
      ]
     },
     "execution_count": 7,
     "metadata": {},
     "output_type": "execute_result"
    },
    {
     "data": {
      "image/png": "[encoded data removed]",
      "text/plain": [
       "<Figure size 432x288 with 1 Axes>"
      ]
     },
     "metadata": {
      "needs_background": "light"
     },
     "output_type": "display_data"
    }
   ],
   "source": [
    "sns.countplot(x='Label',data=data)"
   ]
  },
  {
   "cell_type": "code",
   "execution_count": 8,
   "id": "9caed509",
   "metadata": {},
   "outputs": [],
   "source": [
    "data['Label'] = data['Label'].map({'Non-Spam':0,'Spam':1})"
   ]
  },
  {
   "cell_type": "code",
   "execution_count": 9,
   "id": "6c5af023",
   "metadata": {},
   "outputs": [
    {
     "data": {
      "text/html": [
       "<div>\n",
       "<style scoped>\n",
       "    .dataframe tbody tr th:only-of-type {\n",
       "        vertical-align: middle;\n",
       "    }\n",
       "\n",
       "    .dataframe tbody tr th {\n",
       "        vertical-align: top;\n",
       "    }\n",
       "\n",
       "    .dataframe thead th {\n",
       "        text-align: right;\n",
       "    }\n",
       "</style>\n",
       "<table border=\"1\" class=\"dataframe\">\n",
       "  <thead>\n",
       "    <tr style=\"text-align: right;\">\n",
       "      <th></th>\n",
       "      <th>S. No.</th>\n",
       "      <th>Message_body</th>\n",
       "      <th>Label</th>\n",
       "    </tr>\n",
       "  </thead>\n",
       "  <tbody>\n",
       "    <tr>\n",
       "      <th>0</th>\n",
       "      <td>1</td>\n",
       "      <td>Rofl. Its true to its name</td>\n",
       "      <td>0</td>\n",
       "    </tr>\n",
       "    <tr>\n",
       "      <th>1</th>\n",
       "      <td>2</td>\n",
       "      <td>The guy did some bitching but I acted like i'd...</td>\n",
       "      <td>0</td>\n",
       "    </tr>\n",
       "    <tr>\n",
       "      <th>2</th>\n",
       "      <td>3</td>\n",
       "      <td>Pity, * was in mood for that. So...any other s...</td>\n",
       "      <td>0</td>\n",
       "    </tr>\n",
       "    <tr>\n",
       "      <th>3</th>\n",
       "      <td>4</td>\n",
       "      <td>Will ü b going to esplanade fr home?</td>\n",
       "      <td>0</td>\n",
       "    </tr>\n",
       "    <tr>\n",
       "      <th>4</th>\n",
       "      <td>5</td>\n",
       "      <td>This is the 2nd time we have tried 2 contact u...</td>\n",
       "      <td>1</td>\n",
       "    </tr>\n",
       "  </tbody>\n",
       "</table>\n",
       "</div>"
      ],
      "text/plain": [
       "   S. No.                                       Message_body  Label\n",
       "0       1                         Rofl. Its true to its name      0\n",
       "1       2  The guy did some bitching but I acted like i'd...      0\n",
       "2       3  Pity, * was in mood for that. So...any other s...      0\n",
       "3       4               Will ü b going to esplanade fr home?      0\n",
       "4       5  This is the 2nd time we have tried 2 contact u...      1"
      ]
     },
     "execution_count": 9,
     "metadata": {},
     "output_type": "execute_result"
    }
   ],
   "source": [
    "data.head()"
   ]
  },
  {
   "cell_type": "code",
   "execution_count": 10,
   "id": "edf85aac",
   "metadata": {},
   "outputs": [
    {
     "name": "stderr",
     "output_type": "stream",
     "text": [
      "[nltk_data] Downloading package wordnet to\n",
      "[nltk_data]     C:\\Users\\HP\\AppData\\Roaming\\nltk_data...\n",
      "[nltk_data]   Package wordnet is already up-to-date!\n",
      "[nltk_data] Downloading package stopwords to\n",
      "[nltk_data]     C:\\Users\\HP\\AppData\\Roaming\\nltk_data...\n",
      "[nltk_data]   Package stopwords is already up-to-date!\n",
      "[nltk_data] Downloading package punkt to\n",
      "[nltk_data]     C:\\Users\\HP\\AppData\\Roaming\\nltk_data...\n",
      "[nltk_data]   Package punkt is already up-to-date!\n"
     ]
    },
    {
     "data": {
      "text/plain": [
       "True"
      ]
     },
     "execution_count": 10,
     "metadata": {},
     "output_type": "execute_result"
    }
   ],
   "source": [
    "import nltk\n",
    "nltk.download('wordnet')\n",
    "nltk.download('stopwords')\n",
    "nltk.download('punkt')"
   ]
  },
  {
   "cell_type": "code",
   "execution_count": 11,
   "id": "948cbc67",
   "metadata": {},
   "outputs": [
    {
     "data": {
      "text/plain": [
       "0                             Rofl. Its true to its name\n",
       "1      The guy did some bitching but I acted like i'd...\n",
       "2      Pity, * was in mood for that. So...any other s...\n",
       "3                   Will ü b going to esplanade fr home?\n",
       "4      This is the 2nd time we have tried 2 contact u...\n",
       "                             ...                        \n",
       "952    hows my favourite person today? r u workin har...\n",
       "953                        How much you got for cleaning\n",
       "954    Sorry da. I gone mad so many pending works wha...\n",
       "955                                   Wat time ü finish?\n",
       "956                      Just glad to be talking to you.\n",
       "Name: Message_body, Length: 957, dtype: object"
      ]
     },
     "execution_count": 11,
     "metadata": {},
     "output_type": "execute_result"
    }
   ],
   "source": [
    "tweets = data.Message_body\n",
    "tweets"
   ]
  },
  {
   "cell_type": "code",
   "execution_count": 12,
   "id": "6534b47e",
   "metadata": {},
   "outputs": [
    {
     "data": {
      "text/plain": [
       "0                            Rofl . Its true to its name\n",
       "1      The guy did some bitching but I acted like i'd...\n",
       "2      Pity , * was in mood for that . So ... any oth...\n",
       "3                  Will ü b going to esplanade fr home ?\n",
       "4      This is the 2nd time we have tried 2 contact u...\n",
       "                             ...                        \n",
       "952    hows my favourite person today ? r u workin ha...\n",
       "953                        How much you got for cleaning\n",
       "954    Sorry da . I gone mad so many pending works wh...\n",
       "955                                  Wat time ü finish ?\n",
       "956                     Just glad to be talking to you .\n",
       "Name: Message_body, Length: 957, dtype: object"
      ]
     },
     "execution_count": 12,
     "metadata": {},
     "output_type": "execute_result"
    }
   ],
   "source": [
    "from nltk import TweetTokenizer\n",
    "twt = TweetTokenizer()\n",
    "tweets = tweets.apply(lambda x:twt.tokenize(x)).apply(lambda x:\" \".join(x))\n",
    "tweets"
   ]
  },
  {
   "cell_type": "code",
   "execution_count": 13,
   "id": "47c2fb74",
   "metadata": {},
   "outputs": [
    {
     "name": "stderr",
     "output_type": "stream",
     "text": [
      "C:\\Users\\HP\\AppData\\Local\\Temp\\ipykernel_20288\\2106900710.py:1: FutureWarning: The default value of regex will change from True to False in a future version.\n",
      "  tweets = tweets.str.replace('[^a-zA-z0-9]+',' ')\n"
     ]
    },
    {
     "data": {
      "text/plain": [
       "0                              Rofl Its true to its name\n",
       "1      The guy did some bitching but I acted like i d...\n",
       "2      Pity was in mood for that So any other suggest...\n",
       "3                     Will b going to esplanade fr home \n",
       "4      This is the 2nd time we have tried 2 contact u...\n",
       "                             ...                        \n",
       "952    hows my favourite person today r u workin hard...\n",
       "953                        How much you got for cleaning\n",
       "954    Sorry da I gone mad so many pending works what...\n",
       "955                                     Wat time finish \n",
       "956                      Just glad to be talking to you \n",
       "Name: Message_body, Length: 957, dtype: object"
      ]
     },
     "execution_count": 13,
     "metadata": {},
     "output_type": "execute_result"
    }
   ],
   "source": [
    "tweets = tweets.str.replace('[^a-zA-z0-9]+',' ')\n",
    "tweets"
   ]
  },
  {
   "cell_type": "code",
   "execution_count": 15,
   "id": "5aaddafc",
   "metadata": {},
   "outputs": [
    {
     "data": {
      "text/plain": [
       "0                                rofl it true to it name\n",
       "1      the guy did some bitch but i act like i d be i...\n",
       "2         piti was in mood for that so ani other suggest\n",
       "3                          will b go to esplanad fr home\n",
       "4      this is the 2nd time we have tri 2 contact u u...\n",
       "                             ...                        \n",
       "952    how my favourit person today r u workin hard c...\n",
       "953                           how much you got for clean\n",
       "954     sorri da i gone mad so mani pend work what to do\n",
       "955                                      wat time finish\n",
       "956                          just glad to be talk to you\n",
       "Name: Message_body, Length: 957, dtype: object"
      ]
     },
     "execution_count": 15,
     "metadata": {},
     "output_type": "execute_result"
    }
   ],
   "source": [
    "from nltk.stem import SnowballStemmer\n",
    "stemmer = SnowballStemmer('english')\n",
    "tweets = tweets.apply(lambda x:[stemmer.stem(i.lower()) for i in twt.tokenize(x)]).apply(lambda x:\" \".join(x))\n",
    "tweets"
   ]
  },
  {
   "cell_type": "code",
   "execution_count": 19,
   "id": "0f371908",
   "metadata": {},
   "outputs": [
    {
     "data": {
      "text/plain": [
       "0                                         rofl true name\n",
       "1      guy bitch act like interest buy someth els nex...\n",
       "2                                  piti mood ani suggest\n",
       "3                                  b go esplanad fr home\n",
       "4      2nd time tri 2 contact u u 750 pound prize 2 c...\n",
       "                             ...                        \n",
       "952    favourit person today r u workin hard sleep la...\n",
       "953                                       much got clean\n",
       "954                     sorri da gone mad mani pend work\n",
       "955                                      wat time finish\n",
       "956                                            glad talk\n",
       "Name: Message_body, Length: 957, dtype: object"
      ]
     },
     "execution_count": 19,
     "metadata": {},
     "output_type": "execute_result"
    }
   ],
   "source": [
    "from nltk.corpus import stopwords\n",
    "stop = stopwords.words('english')\n",
    "tweets = tweets.apply(lambda x:[i for i in twt.tokenize(x) if i not in stop]).apply(lambda x:\" \".join(x))\n",
    "tweets"
   ]
  },
  {
   "cell_type": "code",
   "execution_count": 21,
   "id": "725405b1",
   "metadata": {},
   "outputs": [
    {
     "name": "stdout",
     "output_type": "stream",
     "text": [
      "  (0, 1607)\t0.5239133658599108\n",
      "  (0, 2412)\t0.5348011938730758\n",
      "  (0, 1981)\t0.6629498232183731\n",
      "  (1, 1014)\t0.20685451620336232\n",
      "  (1, 2466)\t0.25695881028253453\n",
      "  (1, 1055)\t0.31170172048017486\n",
      "  (1, 2544)\t0.22410916475021456\n",
      "  (1, 1633)\t0.26039666602750017\n",
      "  (1, 869)\t0.2882818418444124\n",
      "  (1, 2156)\t0.2724135649422304\n",
      "  (1, 536)\t0.26408940286140065\n",
      "  (1, 1271)\t0.31170172048017486\n",
      "  (1, 1404)\t0.21064082892249417\n",
      "  (1, 284)\t0.33715572416911704\n",
      "  (1, 470)\t0.3573597035259757\n",
      "  (1, 1122)\t0.25695881028253453\n",
      "  (2, 2249)\t0.5138426627886205\n",
      "  (2, 341)\t0.3777725454832968\n",
      "  (2, 1564)\t0.5446345663733484\n",
      "  (2, 1784)\t0.5446345663733484\n",
      "  (3, 1192)\t0.3893211940097363\n",
      "  (3, 1011)\t0.6301473479829771\n",
      "  (3, 896)\t0.5945208241057491\n",
      "  (3, 1079)\t0.31287108755759896\n",
      "  (4, 1904)\t0.238238740069249\n",
      "  :\t:\n",
      "  (952, 952)\t0.35537664026208104\n",
      "  (952, 2595)\t0.33528477698560794\n",
      "  (952, 1616)\t0.33528477698560794\n",
      "  (952, 1145)\t0.3210293731266606\n",
      "  (952, 1641)\t0.28084564657371425\n",
      "  (952, 2371)\t0.21798757172039906\n",
      "  (952, 1370)\t0.2493307292829713\n",
      "  (952, 1761)\t0.27562475571774686\n",
      "  (952, 152)\t0.29329893794565143\n",
      "  (952, 2127)\t0.26262391587998934\n",
      "  (953, 628)\t0.6968444533749028\n",
      "  (953, 1098)\t0.45469159889556265\n",
      "  (953, 1592)\t0.5546741004359494\n",
      "  (954, 1752)\t0.4722040584870157\n",
      "  (954, 1089)\t0.4265653836227303\n",
      "  (954, 1483)\t0.3395374237279895\n",
      "  (954, 1471)\t0.44550714510880357\n",
      "  (954, 2594)\t0.30083596862380824\n",
      "  (954, 727)\t0.30332089333588635\n",
      "  (954, 2165)\t0.3143201836287994\n",
      "  (955, 976)\t0.6578668937985005\n",
      "  (955, 2528)\t0.5758861229421057\n",
      "  (955, 2354)\t0.48535175228551747\n",
      "  (956, 1077)\t0.7740004035184297\n",
      "  (956, 2282)\t0.6331851035465915\n"
     ]
    }
   ],
   "source": [
    "from sklearn.feature_extraction.text import TfidfVectorizer\n",
    "tfidf = TfidfVectorizer()\n",
    "vec_data = tfidf.fit_transform(tweets)\n",
    "print(vec_data)"
   ]
  },
  {
   "cell_type": "code",
   "execution_count": 24,
   "id": "d91701bd",
   "metadata": {},
   "outputs": [],
   "source": [
    "x = vec_data\n",
    "y = data['Label']"
   ]
  },
  {
   "cell_type": "code",
   "execution_count": 25,
   "id": "53460538",
   "metadata": {},
   "outputs": [],
   "source": [
    "from sklearn.model_selection import train_test_split\n",
    "x_train,x_test,y_train,y_test = train_test_split(x,y,test_size=0.2)"
   ]
  },
  {
   "cell_type": "code",
   "execution_count": 26,
   "id": "7ee1f3f8",
   "metadata": {},
   "outputs": [
    {
     "data": {
      "text/plain": [
       "array([1, 0, 0, 0, 0, 0, 0, 0, 0, 1, 0, 0, 0, 0, 0, 0, 0, 0, 0, 0, 0, 0,\n",
       "       0, 1, 0, 0, 1, 0, 0, 0, 0, 0, 0, 0, 0, 0, 0, 0, 0, 0, 0, 0, 0, 1,\n",
       "       0, 0, 0, 0, 0, 0, 0, 0, 0, 0, 1, 0, 0, 0, 0, 0, 0, 0, 0, 0, 0, 0,\n",
       "       0, 0, 0, 0, 0, 0, 0, 1, 0, 0, 0, 0, 0, 0, 0, 0, 0, 0, 0, 0, 0, 0,\n",
       "       0, 0, 0, 0, 0, 0, 0, 0, 0, 0, 0, 0, 0, 0, 0, 0, 0, 0, 0, 0, 0, 0,\n",
       "       0, 0, 0, 1, 0, 0, 0, 0, 0, 0, 0, 0, 0, 0, 0, 0, 0, 0, 0, 0, 0, 0,\n",
       "       0, 0, 0, 0, 0, 0, 0, 0, 0, 0, 0, 0, 0, 0, 0, 0, 0, 0, 0, 0, 0, 0,\n",
       "       0, 0, 0, 0, 0, 0, 0, 1, 0, 0, 0, 0, 0, 0, 0, 1, 0, 1, 0, 0, 1, 0,\n",
       "       0, 0, 0, 0, 0, 0, 1, 0, 0, 0, 0, 0, 0, 0, 0, 0], dtype=int64)"
      ]
     },
     "execution_count": 26,
     "metadata": {},
     "output_type": "execute_result"
    }
   ],
   "source": [
    "from sklearn.ensemble import RandomForestClassifier\n",
    "forest = RandomForestClassifier(n_estimators=50)\n",
    "forest.fit(x_train,y_train)\n",
    "model = forest.predict(x_test)\n",
    "model"
   ]
  },
  {
   "cell_type": "code",
   "execution_count": 27,
   "id": "ede075e5",
   "metadata": {},
   "outputs": [
    {
     "name": "stdout",
     "output_type": "stream",
     "text": [
      "              precision    recall  f1-score   support\n",
      "\n",
      "           0       0.99      0.94      0.97       179\n",
      "           1       0.52      0.92      0.67        13\n",
      "\n",
      "    accuracy                           0.94       192\n",
      "   macro avg       0.76      0.93      0.82       192\n",
      "weighted avg       0.96      0.94      0.95       192\n",
      "\n"
     ]
    }
   ],
   "source": [
    "from sklearn.metrics import classification_report,ConfusionMatrixDisplay\n",
    "print(classification_report(model,y_test))"
   ]
  },
  {
   "cell_type": "code",
   "execution_count": 28,
   "id": "546a7290",
   "metadata": {},
   "outputs": [
    {
     "data": {
      "text/plain": [
       "<sklearn.metrics._plot.confusion_matrix.ConfusionMatrixDisplay at 0x2ba0fe288b0>"
      ]
     },
     "execution_count": 28,
     "metadata": {},
     "output_type": "execute_result"
    },
    {
     "data": {
      "image/png": "[encoded data removed]",
      "text/plain": [
       "<Figure size 432x288 with 2 Axes>"
      ]
     },
     "metadata": {
      "needs_background": "light"
     },
     "output_type": "display_data"
    }
   ],
   "source": [
    "ConfusionMatrixDisplay.from_predictions(model,y_test)"
   ]
  },
  {
   "cell_type": "code",
   "execution_count": 30,
   "id": "65527a50",
   "metadata": {},
   "outputs": [
    {
     "name": "stderr",
     "output_type": "stream",
     "text": [
      "C:\\ProgramData\\Anaconda3\\lib\\site-packages\\seaborn\\_decorators.py:36: FutureWarning: Pass the following variable as a keyword arg: x. From version 0.12, the only valid positional argument will be `data`, and passing other arguments without an explicit keyword will result in an error or misinterpretation.\n",
      "  warnings.warn(\n"
     ]
    },
    {
     "data": {
      "text/plain": [
       "<AxesSubplot:ylabel='count'>"
      ]
     },
     "execution_count": 30,
     "metadata": {},
     "output_type": "execute_result"
    },
    {
     "data": {
      "image/png": "[encoded data removed]",
      "text/plain": [
       "<Figure size 432x288 with 1 Axes>"
      ]
     },
     "metadata": {
      "needs_background": "light"
     },
     "output_type": "display_data"
    }
   ],
   "source": [
    "sns.countplot(model,data=data)"
   ]
  }
 ],
 "metadata": {
  "kernelspec": {
   "display_name": "Python 3 (ipykernel)",
   "language": "python",
   "name": "python3"
  },
  "language_info": {
   "codemirror_mode": {
    "name": "ipython",
    "version": 3
   },
   "file_extension": ".py",
   "mimetype": "text/x-python",
   "name": "python",
   "nbconvert_exporter": "python",
   "pygments_lexer": "ipython3",
   "version": "3.9.12"
  }
 },
 "nbformat": 4,
 "nbformat_minor": 5
}
